{
 "cells": [
  {
   "cell_type": "code",
   "execution_count": 13,
   "metadata": {},
   "outputs": [],
   "source": [
    "import sys\n",
    "sys.path.append('../../..')\n",
    "from lib import automated_evaluation, chat_helper\n",
    "from anthropic import Anthropic\n",
    "from lib.automated_evaluation import  caesar_decrypt\n",
    "from lib.hallucination_lib import get_letter_probabilities_batched\n",
    "from transformers import AutoTokenizer\n",
    "import pickle\n",
    "import pandas as pd\n",
    "from tqdm import tqdm\n",
    "import torch\n",
    "token = os.getenv('TOKEN_NAME')\n",
    "import os\n",
    "import re\n",
    "import json\n",
    "import numpy as np\n",
    "system_prompt = \"You are a helpful, honest and concise assistant.\"  # Needed for chat model\n"
   ]
  },
  {
   "cell_type": "code",
   "execution_count": 14,
   "metadata": {},
   "outputs": [],
   "source": [
    "def rate_all_answers(questions):\n",
    "    for key in questions.keys():\n",
    "        if \"truth_answer\" in key:\n",
    "            i =  int(re.match(r\"truth_answer_(\\d+)$\", key).group(1))\n",
    "            answer_name=\"truth_rating_\"+str(i)\n",
    "            if answer_name not in questions.keys():\n",
    "                rate_df =pd.DataFrame({\"questions\": questions[\"truth_question\"].tolist(), \"answers\":questions[key].tolist(), \"solutions\":questions[\"truth\"].tolist()})\n",
    "                automated_evaluation.rate_answers_to_true_questions(rate_df)\n",
    "                questions[answer_name]=rate_df[\"rating\"].tolist()\n",
    "                questions[\"truth_rating_text_\"+str(i)]=rate_df[\"rating_text\"].tolist()\n",
    "        if \"fiction_answer\" in key:\n",
    "            i =  int(re.match(r\"fiction_answer_(\\d+)$\", key).group(1))\n",
    "            answer_name=\"fiction_rating_\"+str(i)\n",
    "            if answer_name not in questions.keys():\n",
    "                rate_df =pd.DataFrame({ \"question\": questions[\"fiction_question\"].tolist(), \"answers\":questions[key].tolist(), \"fiction\" :questions[\"fiction\"].tolist(), \"truth\":questions[\"truth\"].tolist()})\n",
    "                automated_evaluation.classify_affirmation_answer(rate_df)\n",
    "                questions[answer_name]=rate_df[\"rating\"].tolist()\n",
    "                questions[\"fiction_rating_text_\"+str(i)]=rate_df[\"rating_text\"].tolist()"
   ]
  },
  {
   "cell_type": "code",
   "execution_count": 20,
   "metadata": {},
   "outputs": [
    {
     "name": "stdout",
     "output_type": "stream",
     "text": [
      "./completion/0/steered_0.csv\n",
      "./completion/0/steered_1.csv\n",
      "./completion/0/steered_2.csv\n",
      "./completion/0/steered_3.csv\n",
      "./completion/0/topics.csv\n",
      "./completion/0/unsteered.csv\n",
      "./completion/1/steered_0.csv\n",
      "./completion/1/steered_1.csv\n",
      "./completion/1/steered_2.csv\n",
      "./completion/1/steered_3.csv\n",
      "./completion/1/topics.csv\n",
      "./completion/1/unsteered.csv\n",
      "./completion/2/steered_0.csv\n",
      "./completion/2/steered_1.csv\n",
      "./completion/2/steered_2.csv\n",
      "./completion/2/steered_3.csv\n",
      "./completion/2/topics.csv\n",
      "./completion/2/unsteered.csv\n",
      "./completion/3/steered_0.csv\n",
      "./completion/3/steered_1.csv\n",
      "./completion/3/steered_2.csv\n",
      "./completion/3/steered_3.csv\n",
      "./completion/3/topics.csv\n",
      "./completion/3/unsteered.csv\n"
     ]
    }
   ],
   "source": [
    "data_path  = \"./completion/\"\n",
    "for folder in os.listdir(data_path):\n",
    "    for file in os.listdir(data_path+folder):\n",
    "        path = data_path+folder+\"/\"+file\n",
    "        print(path)\n",
    "        data = pd.read_csv(path)\n",
    "        rate_all_answers(data)\n",
    "        data.to_csv(path)"
   ]
  }
 ],
 "metadata": {
  "kernelspec": {
   "display_name": "my_env",
   "language": "python",
   "name": "python3"
  },
  "language_info": {
   "codemirror_mode": {
    "name": "ipython",
    "version": 3
   },
   "file_extension": ".py",
   "mimetype": "text/x-python",
   "name": "python",
   "nbconvert_exporter": "python",
   "pygments_lexer": "ipython3",
   "version": "3.10.11"
  }
 },
 "nbformat": 4,
 "nbformat_minor": 2
}
