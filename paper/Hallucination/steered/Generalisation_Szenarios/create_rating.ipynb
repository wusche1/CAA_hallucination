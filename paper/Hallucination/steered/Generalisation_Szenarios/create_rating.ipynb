{
 "cells": [
  {
   "cell_type": "code",
   "execution_count": 1,
   "metadata": {},
   "outputs": [],
   "source": [
    "import sys\n",
    "sys.path.append('../../..')\n",
    "from lib import automated_evaluation, chat_helper\n",
    "from anthropic import Anthropic\n",
    "from lib.automated_evaluation import  caesar_decrypt\n",
    "from lib.hallucination_lib import get_letter_probabilities_batched\n",
    "from transformers import AutoTokenizer\n",
    "import pickle\n",
    "import pandas as pd\n",
    "from tqdm import tqdm\n",
    "import torch\n",
    "token = 'redacted_for_publishing'\n",
    "import os\n",
    "import re\n",
    "import json\n",
    "import matplotlib.pyplot as plt\n",
    "import numpy as np\n",
    "system_prompt = \"You are a helpful, honest and concise assistant.\"  # Needed for chat model\n"
   ]
  },
  {
   "cell_type": "code",
   "execution_count": 2,
   "metadata": {},
   "outputs": [],
   "source": [
    "def rate_all_answers(questions):\n",
    "    for key in questions.keys():\n",
    "        if \"truth_answer\" in key:\n",
    "            i = int(re.match(r\"truth_answer_(\\d+)$\", key).group(1))\n",
    "            answer_name = \"truth_rating_\" + str(i)\n",
    "            if answer_name not in questions.keys():\n",
    "                rate_df = pd.DataFrame(\n",
    "                    {\n",
    "                        \"questions\": questions[\"truth_question\"].tolist(),\n",
    "                        \"answers\": questions[key].tolist(),\n",
    "                        \"solutions\": questions[\"truth\"].tolist(),\n",
    "                    }\n",
    "                )\n",
    "                automated_evaluation.rate_answers_to_true_questions(rate_df)\n",
    "                questions[answer_name] = rate_df[\"rating\"].tolist()\n",
    "                questions[\"truth_rating_text_\" + str(i)] = rate_df[\n",
    "                    \"rating_text\"\n",
    "                ].tolist()\n",
    "        if \"fiction_answer\" in key:\n",
    "            i = int(re.match(r\"fiction_answer_(\\d+)$\", key).group(1))\n",
    "            answer_name = \"fiction_rating_\" + str(i)\n",
    "            if answer_name not in questions.keys():\n",
    "                rate_df = pd.DataFrame(\n",
    "                    {\n",
    "                        \"question\": questions[\"fiction_question\"].tolist(),\n",
    "                        \"answers\": questions[key].tolist(),\n",
    "                        \"fiction\": questions[\"fiction\"].tolist(),\n",
    "                        \"truth\": questions[\"truth\"].tolist(),\n",
    "                    }\n",
    "                )\n",
    "                automated_evaluation.classify_affirmation_answer(rate_df)\n",
    "                questions[answer_name] = rate_df[\"rating\"].tolist()\n",
    "                questions[\"fiction_rating_text_\" + str(i)] = rate_df[\n",
    "                    \"rating_text\"\n",
    "                ].tolist()\n"
   ]
  },
  {
   "cell_type": "code",
   "execution_count": 4,
   "metadata": {},
   "outputs": [
    {
     "name": "stdout",
     "output_type": "stream",
     "text": [
      "./steered_completions/alluding_questions/alluding_questions_steered.csv\n",
      "./steered_completions/alluding_questions/conversation_steered.csv\n",
      "./steered_completions/alluding_questions/direct_questions_steered.csv\n",
      "./steered_completions/alluding_questions/questioning_assuming_statement_steered.csv\n",
      "./steered_completions/alluding_questions/unsteered.csv\n",
      "./steered_completions/conversation/alluding_questions_steered.csv\n",
      "./steered_completions/conversation/conversation_steered.csv\n",
      "./steered_completions/conversation/direct_questions_steered.csv\n",
      "./steered_completions/conversation/questioning_assuming_statement_steered.csv\n",
      "./steered_completions/conversation/unsteered.csv\n",
      "./steered_completions/direct_questions/alluding_questions_steered.csv\n",
      "./steered_completions/direct_questions/conversation_steered.csv\n",
      "./steered_completions/direct_questions/direct_questions_steered.csv\n",
      "./steered_completions/direct_questions/questioning_assuming_statement_steered.csv\n",
      "./steered_completions/direct_questions/unsteered.csv\n",
      "./steered_completions/questioning_assuming_statement/alluding_questions_steered.csv\n",
      "./steered_completions/questioning_assuming_statement/conversation_steered.csv\n",
      "./steered_completions/questioning_assuming_statement/direct_questions_steered.csv\n",
      "./steered_completions/questioning_assuming_statement/questioning_assuming_statement_steered.csv\n",
      "./steered_completions/questioning_assuming_statement/unsteered.csv\n"
     ]
    }
   ],
   "source": [
    "data_path  = \"./steered_completions/\"\n",
    "for folder in os.listdir(data_path):\n",
    "    for file in os.listdir(data_path+folder):\n",
    "        path = data_path+folder+\"/\"+file\n",
    "        print(path)\n",
    "        data = pd.read_csv(path)\n",
    "        rate_all_answers(data)\n",
    "        data.to_csv(path)"
   ]
  }
 ],
 "metadata": {
  "kernelspec": {
   "display_name": "my_env",
   "language": "python",
   "name": "python3"
  },
  "language_info": {
   "codemirror_mode": {
    "name": "ipython",
    "version": 3
   },
   "file_extension": ".py",
   "mimetype": "text/x-python",
   "name": "python",
   "nbconvert_exporter": "python",
   "pygments_lexer": "ipython3",
   "version": "3.10.11"
  }
 },
 "nbformat": 4,
 "nbformat_minor": 2
}
