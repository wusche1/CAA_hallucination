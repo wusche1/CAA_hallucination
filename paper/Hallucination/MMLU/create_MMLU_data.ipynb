{
 "cells": [
  {
   "cell_type": "code",
   "execution_count": 6,
   "metadata": {},
   "outputs": [],
   "source": [
    "import sys\n",
    "sys.path.append('../..')\n",
    "from lib import automated_evaluation, chat_helper\n",
    "from anthropic import Anthropic\n",
    "from lib.automated_evaluation import  caesar_decrypt\n",
    "from lib.hallucination_lib import get_letter_probabilities_batched\n",
    "from transformers import AutoTokenizer\n",
    "import pickle\n",
    "import random\n",
    "import pandas as pd\n",
    "import datasets\n",
    "import torch.nn.functional as F\n",
    "from tqdm import tqdm\n",
    "import torch\n",
    "import json\n",
    "keys_file_path = \"/root/keys\"\n",
    "with open(keys_file_path, 'r') as keys_file:\n",
    "    keys = json.load(keys_file)\n",
    "\n",
    "token = keys[\"TOKEN_NAME\"]\n",
    "import os\n",
    "import re\n",
    "import json\n",
    "import matplotlib.pyplot as plt\n",
    "import numpy as np\n",
    "system_prompt = \"You are a helpful, honest and concise assistant.\"  # Needed for chat model\n"
   ]
  },
  {
   "cell_type": "code",
   "execution_count": 7,
   "metadata": {},
   "outputs": [
    {
     "data": {
      "application/vnd.jupyter.widget-view+json": {
       "model_id": "79eb40fd221447a49c0455cbafdf4cff",
       "version_major": 2,
       "version_minor": 0
      },
      "text/plain": [
       "Loading checkpoint shards:   0%|          | 0/2 [00:00<?, ?it/s]"
      ]
     },
     "metadata": {},
     "output_type": "display_data"
    },
    {
     "name": "stdout",
     "output_type": "stream",
     "text": [
      "Using 3 GPUs!\n"
     ]
    }
   ],
   "source": [
    "model = chat_helper.Llama7BChatHelper(token, system_prompt, master_device=0,threshold=0.1)\n",
    "model.tokenizer.pad_token = model.tokenizer.eos_token"
   ]
  },
  {
   "cell_type": "code",
   "execution_count": 8,
   "metadata": {},
   "outputs": [],
   "source": [
    "def get_mmlu_questions(number, subsets):\n",
    "    result = []\n",
    "    for subset in subsets:\n",
    "        try:\n",
    "            dataset = datasets.load_dataset(\"lukaemon/mmlu\", subset)[\"test\"]\n",
    "        except Exception as e:\n",
    "            print(f\"Failed to load dataset for subset {subset}. Error: {e}\")\n",
    "            continue\n",
    "        # Randomly sample 'number' items from the data\n",
    "        samples = random.sample(list(dataset), min(number, len(dataset)))\n",
    "        for sample in samples:\n",
    "            # Dynamically build the question with choices\n",
    "            question_parts = [sample[\"input\"]]\n",
    "            for choice_letter in [\"A\", \"B\", \"C\", \"D\"]:\n",
    "                if choice_letter in sample:\n",
    "                    question_parts.append(f\"{choice_letter}: {sample[choice_letter]}\")\n",
    "                else:\n",
    "                    print(f\"letter {choice_letter} not in sample {sample}\")\n",
    "            question_parts.append(\"I choose \")\n",
    "            question = \"\\n\".join(question_parts)\n",
    "            answer = sample.get(\"target\", \"Unknown\")\n",
    "            result.append({\"question\": question, \"answer\": answer})\n",
    "    return result\n",
    "def find_token_ids_for_letter(tokenizer, letter: str):\n",
    "    letter = letter.lower()  # Convert the letter to lowercase\n",
    "    matching_ids = []\n",
    "    # Iterate over tokens and their ids\n",
    "    for token, token_id in tokenizer.get_vocab().items():\n",
    "        if token.lower().replace(\" \", \"\") == letter:\n",
    "            matching_ids.append(token_id)\n",
    "    return matching_ids\n",
    "def get_mmlu_probabilities(model, question):\n",
    "    assert question[\"answer\"] in [\n",
    "        \"A\",\n",
    "        \"B\",\n",
    "        \"C\",\n",
    "        \"D\",\n",
    "    ], \"The letter for the answer is not a valid letter\"\n",
    "    test_prompt_tokens = chat_helper.prompt_to_tokens(\n",
    "        model.tokenizer,\n",
    "        system_prompt,\n",
    "        question[\"question\"],\n",
    "        \"I choose (\",\n",
    "    )\n",
    "    test_prompt_tokens = test_prompt_tokens.to(model.device)\n",
    "    logits = model.get_logits(test_prompt_tokens)[0, -1, :]\n",
    "    probabilities = F.softmax(logits, dim=-1).to(\"cpu\")\n",
    "    ids_for_answer = find_token_ids_for_letter(model.tokenizer, question[\"answer\"])\n",
    "    answer_probability = round(sum(probabilities[ids_for_answer]).item(), 2)\n",
    "    return {\"question\": question, \"answer_probability\": answer_probability}\n",
    "def get_mmlu_average(model,  questions):\n",
    "\n",
    "    probabilities = []\n",
    "    for question in questions:\n",
    "        probabilities.append(\n",
    "            get_mmlu_probabilities(model, question)[\"answer_probability\"]\n",
    "        )\n",
    "    return sum(probabilities) / len(probabilities)\n"
   ]
  },
  {
   "cell_type": "code",
   "execution_count": 9,
   "metadata": {},
   "outputs": [
    {
     "name": "stderr",
     "output_type": "stream",
     "text": [
      "Found cached dataset mmlu (/root/.cache/huggingface/datasets/lukaemon___mmlu/abstract_algebra/1.0.0/134145dc2582b9a08b42d1f4b828f84a0066e9cc2e7dd8c1d83bee475746ecc3)\n"
     ]
    },
    {
     "data": {
      "application/vnd.jupyter.widget-view+json": {
       "model_id": "ef6fe68d2cd1492dac7449488db23668",
       "version_major": 2,
       "version_minor": 0
      },
      "text/plain": [
       "  0%|          | 0/3 [00:00<?, ?it/s]"
      ]
     },
     "metadata": {},
     "output_type": "display_data"
    },
    {
     "name": "stderr",
     "output_type": "stream",
     "text": [
      "Found cached dataset mmlu (/root/.cache/huggingface/datasets/lukaemon___mmlu/anatomy/1.0.0/134145dc2582b9a08b42d1f4b828f84a0066e9cc2e7dd8c1d83bee475746ecc3)\n"
     ]
    },
    {
     "data": {
      "application/vnd.jupyter.widget-view+json": {
       "model_id": "5a6c7a79209546cca43d71c2846db7d2",
       "version_major": 2,
       "version_minor": 0
      },
      "text/plain": [
       "  0%|          | 0/3 [00:00<?, ?it/s]"
      ]
     },
     "metadata": {},
     "output_type": "display_data"
    },
    {
     "name": "stderr",
     "output_type": "stream",
     "text": [
      "Found cached dataset mmlu (/root/.cache/huggingface/datasets/lukaemon___mmlu/astronomy/1.0.0/134145dc2582b9a08b42d1f4b828f84a0066e9cc2e7dd8c1d83bee475746ecc3)\n"
     ]
    },
    {
     "data": {
      "application/vnd.jupyter.widget-view+json": {
       "model_id": "cd0dc2c08a714d359b286f05622d411f",
       "version_major": 2,
       "version_minor": 0
      },
      "text/plain": [
       "  0%|          | 0/3 [00:00<?, ?it/s]"
      ]
     },
     "metadata": {},
     "output_type": "display_data"
    },
    {
     "name": "stderr",
     "output_type": "stream",
     "text": [
      "Found cached dataset mmlu (/root/.cache/huggingface/datasets/lukaemon___mmlu/business_ethics/1.0.0/134145dc2582b9a08b42d1f4b828f84a0066e9cc2e7dd8c1d83bee475746ecc3)\n"
     ]
    },
    {
     "data": {
      "application/vnd.jupyter.widget-view+json": {
       "model_id": "e2dcda3f604b4a0e8554f614346fa74a",
       "version_major": 2,
       "version_minor": 0
      },
      "text/plain": [
       "  0%|          | 0/3 [00:00<?, ?it/s]"
      ]
     },
     "metadata": {},
     "output_type": "display_data"
    },
    {
     "name": "stderr",
     "output_type": "stream",
     "text": [
      "Found cached dataset mmlu (/root/.cache/huggingface/datasets/lukaemon___mmlu/clinical_knowledge/1.0.0/134145dc2582b9a08b42d1f4b828f84a0066e9cc2e7dd8c1d83bee475746ecc3)\n"
     ]
    },
    {
     "data": {
      "application/vnd.jupyter.widget-view+json": {
       "model_id": "5556a3b2550a4a00bd82fef00e73d6d0",
       "version_major": 2,
       "version_minor": 0
      },
      "text/plain": [
       "  0%|          | 0/3 [00:00<?, ?it/s]"
      ]
     },
     "metadata": {},
     "output_type": "display_data"
    },
    {
     "name": "stderr",
     "output_type": "stream",
     "text": [
      "Found cached dataset mmlu (/root/.cache/huggingface/datasets/lukaemon___mmlu/college_biology/1.0.0/134145dc2582b9a08b42d1f4b828f84a0066e9cc2e7dd8c1d83bee475746ecc3)\n"
     ]
    },
    {
     "data": {
      "application/vnd.jupyter.widget-view+json": {
       "model_id": "617de15b310648cda42139b2c71ca5c3",
       "version_major": 2,
       "version_minor": 0
      },
      "text/plain": [
       "  0%|          | 0/3 [00:00<?, ?it/s]"
      ]
     },
     "metadata": {},
     "output_type": "display_data"
    },
    {
     "name": "stderr",
     "output_type": "stream",
     "text": [
      "Found cached dataset mmlu (/root/.cache/huggingface/datasets/lukaemon___mmlu/college_chemistry/1.0.0/134145dc2582b9a08b42d1f4b828f84a0066e9cc2e7dd8c1d83bee475746ecc3)\n"
     ]
    },
    {
     "data": {
      "application/vnd.jupyter.widget-view+json": {
       "model_id": "f3e7a27ab92c4996b4a722b73faee67a",
       "version_major": 2,
       "version_minor": 0
      },
      "text/plain": [
       "  0%|          | 0/3 [00:00<?, ?it/s]"
      ]
     },
     "metadata": {},
     "output_type": "display_data"
    },
    {
     "name": "stderr",
     "output_type": "stream",
     "text": [
      "Found cached dataset mmlu (/root/.cache/huggingface/datasets/lukaemon___mmlu/college_computer_science/1.0.0/134145dc2582b9a08b42d1f4b828f84a0066e9cc2e7dd8c1d83bee475746ecc3)\n"
     ]
    },
    {
     "data": {
      "application/vnd.jupyter.widget-view+json": {
       "model_id": "f72fcbc7aa154bc8b1ce8cd9805fc09f",
       "version_major": 2,
       "version_minor": 0
      },
      "text/plain": [
       "  0%|          | 0/3 [00:00<?, ?it/s]"
      ]
     },
     "metadata": {},
     "output_type": "display_data"
    },
    {
     "name": "stderr",
     "output_type": "stream",
     "text": [
      "Found cached dataset mmlu (/root/.cache/huggingface/datasets/lukaemon___mmlu/college_mathematics/1.0.0/134145dc2582b9a08b42d1f4b828f84a0066e9cc2e7dd8c1d83bee475746ecc3)\n"
     ]
    },
    {
     "data": {
      "application/vnd.jupyter.widget-view+json": {
       "model_id": "b7c3a4b6f1c541ac845c54b1bcb9582e",
       "version_major": 2,
       "version_minor": 0
      },
      "text/plain": [
       "  0%|          | 0/3 [00:00<?, ?it/s]"
      ]
     },
     "metadata": {},
     "output_type": "display_data"
    },
    {
     "name": "stderr",
     "output_type": "stream",
     "text": [
      "Found cached dataset mmlu (/root/.cache/huggingface/datasets/lukaemon___mmlu/college_medicine/1.0.0/134145dc2582b9a08b42d1f4b828f84a0066e9cc2e7dd8c1d83bee475746ecc3)\n"
     ]
    },
    {
     "data": {
      "application/vnd.jupyter.widget-view+json": {
       "model_id": "3655908266564d4fbe6ab31d0088c6a1",
       "version_major": 2,
       "version_minor": 0
      },
      "text/plain": [
       "  0%|          | 0/3 [00:00<?, ?it/s]"
      ]
     },
     "metadata": {},
     "output_type": "display_data"
    },
    {
     "name": "stderr",
     "output_type": "stream",
     "text": [
      "Found cached dataset mmlu (/root/.cache/huggingface/datasets/lukaemon___mmlu/college_physics/1.0.0/134145dc2582b9a08b42d1f4b828f84a0066e9cc2e7dd8c1d83bee475746ecc3)\n"
     ]
    },
    {
     "data": {
      "application/vnd.jupyter.widget-view+json": {
       "model_id": "92a025dd8785499aa95b10da90722c36",
       "version_major": 2,
       "version_minor": 0
      },
      "text/plain": [
       "  0%|          | 0/3 [00:00<?, ?it/s]"
      ]
     },
     "metadata": {},
     "output_type": "display_data"
    },
    {
     "name": "stderr",
     "output_type": "stream",
     "text": [
      "Found cached dataset mmlu (/root/.cache/huggingface/datasets/lukaemon___mmlu/computer_security/1.0.0/134145dc2582b9a08b42d1f4b828f84a0066e9cc2e7dd8c1d83bee475746ecc3)\n"
     ]
    },
    {
     "data": {
      "application/vnd.jupyter.widget-view+json": {
       "model_id": "a7a8b42ffe8743e9b6c6817db1ee50a1",
       "version_major": 2,
       "version_minor": 0
      },
      "text/plain": [
       "  0%|          | 0/3 [00:00<?, ?it/s]"
      ]
     },
     "metadata": {},
     "output_type": "display_data"
    },
    {
     "name": "stderr",
     "output_type": "stream",
     "text": [
      "Found cached dataset mmlu (/root/.cache/huggingface/datasets/lukaemon___mmlu/conceptual_physics/1.0.0/134145dc2582b9a08b42d1f4b828f84a0066e9cc2e7dd8c1d83bee475746ecc3)\n"
     ]
    },
    {
     "data": {
      "application/vnd.jupyter.widget-view+json": {
       "model_id": "2377c91e3a5e4ec5b996120efde60e8c",
       "version_major": 2,
       "version_minor": 0
      },
      "text/plain": [
       "  0%|          | 0/3 [00:00<?, ?it/s]"
      ]
     },
     "metadata": {},
     "output_type": "display_data"
    },
    {
     "name": "stderr",
     "output_type": "stream",
     "text": [
      "Found cached dataset mmlu (/root/.cache/huggingface/datasets/lukaemon___mmlu/econometrics/1.0.0/134145dc2582b9a08b42d1f4b828f84a0066e9cc2e7dd8c1d83bee475746ecc3)\n"
     ]
    },
    {
     "data": {
      "application/vnd.jupyter.widget-view+json": {
       "model_id": "52c139cdaffa482dbd33c99f5d69aca3",
       "version_major": 2,
       "version_minor": 0
      },
      "text/plain": [
       "  0%|          | 0/3 [00:00<?, ?it/s]"
      ]
     },
     "metadata": {},
     "output_type": "display_data"
    },
    {
     "name": "stderr",
     "output_type": "stream",
     "text": [
      "Found cached dataset mmlu (/root/.cache/huggingface/datasets/lukaemon___mmlu/electrical_engineering/1.0.0/134145dc2582b9a08b42d1f4b828f84a0066e9cc2e7dd8c1d83bee475746ecc3)\n"
     ]
    },
    {
     "data": {
      "application/vnd.jupyter.widget-view+json": {
       "model_id": "017ca9a40cc2486bac1c0c7631e82d94",
       "version_major": 2,
       "version_minor": 0
      },
      "text/plain": [
       "  0%|          | 0/3 [00:00<?, ?it/s]"
      ]
     },
     "metadata": {},
     "output_type": "display_data"
    },
    {
     "name": "stderr",
     "output_type": "stream",
     "text": [
      "Found cached dataset mmlu (/root/.cache/huggingface/datasets/lukaemon___mmlu/elementary_mathematics/1.0.0/134145dc2582b9a08b42d1f4b828f84a0066e9cc2e7dd8c1d83bee475746ecc3)\n"
     ]
    },
    {
     "data": {
      "application/vnd.jupyter.widget-view+json": {
       "model_id": "6417b076a6ac4ffc97f9391c8624ed8a",
       "version_major": 2,
       "version_minor": 0
      },
      "text/plain": [
       "  0%|          | 0/3 [00:00<?, ?it/s]"
      ]
     },
     "metadata": {},
     "output_type": "display_data"
    },
    {
     "name": "stderr",
     "output_type": "stream",
     "text": [
      "Found cached dataset mmlu (/root/.cache/huggingface/datasets/lukaemon___mmlu/formal_logic/1.0.0/134145dc2582b9a08b42d1f4b828f84a0066e9cc2e7dd8c1d83bee475746ecc3)\n"
     ]
    },
    {
     "data": {
      "application/vnd.jupyter.widget-view+json": {
       "model_id": "377dece3dc254b7d89f1a2680bd6a0f2",
       "version_major": 2,
       "version_minor": 0
      },
      "text/plain": [
       "  0%|          | 0/3 [00:00<?, ?it/s]"
      ]
     },
     "metadata": {},
     "output_type": "display_data"
    },
    {
     "name": "stderr",
     "output_type": "stream",
     "text": [
      "Found cached dataset mmlu (/root/.cache/huggingface/datasets/lukaemon___mmlu/global_facts/1.0.0/134145dc2582b9a08b42d1f4b828f84a0066e9cc2e7dd8c1d83bee475746ecc3)\n"
     ]
    },
    {
     "data": {
      "application/vnd.jupyter.widget-view+json": {
       "model_id": "4c9e09a53e994b448f4055a6b9f02d52",
       "version_major": 2,
       "version_minor": 0
      },
      "text/plain": [
       "  0%|          | 0/3 [00:00<?, ?it/s]"
      ]
     },
     "metadata": {},
     "output_type": "display_data"
    },
    {
     "name": "stderr",
     "output_type": "stream",
     "text": [
      "Found cached dataset mmlu (/root/.cache/huggingface/datasets/lukaemon___mmlu/high_school_biology/1.0.0/134145dc2582b9a08b42d1f4b828f84a0066e9cc2e7dd8c1d83bee475746ecc3)\n"
     ]
    },
    {
     "data": {
      "application/vnd.jupyter.widget-view+json": {
       "model_id": "b5c1f38dbcf140ecb7a9bdd4583c7ada",
       "version_major": 2,
       "version_minor": 0
      },
      "text/plain": [
       "  0%|          | 0/3 [00:00<?, ?it/s]"
      ]
     },
     "metadata": {},
     "output_type": "display_data"
    },
    {
     "name": "stderr",
     "output_type": "stream",
     "text": [
      "Found cached dataset mmlu (/root/.cache/huggingface/datasets/lukaemon___mmlu/high_school_chemistry/1.0.0/134145dc2582b9a08b42d1f4b828f84a0066e9cc2e7dd8c1d83bee475746ecc3)\n"
     ]
    },
    {
     "data": {
      "application/vnd.jupyter.widget-view+json": {
       "model_id": "730bed3e899940ebbb137c2582c5fa2e",
       "version_major": 2,
       "version_minor": 0
      },
      "text/plain": [
       "  0%|          | 0/3 [00:00<?, ?it/s]"
      ]
     },
     "metadata": {},
     "output_type": "display_data"
    },
    {
     "name": "stderr",
     "output_type": "stream",
     "text": [
      "Found cached dataset mmlu (/root/.cache/huggingface/datasets/lukaemon___mmlu/high_school_computer_science/1.0.0/134145dc2582b9a08b42d1f4b828f84a0066e9cc2e7dd8c1d83bee475746ecc3)\n"
     ]
    },
    {
     "data": {
      "application/vnd.jupyter.widget-view+json": {
       "model_id": "e74ab778531c4907977396c6b094b083",
       "version_major": 2,
       "version_minor": 0
      },
      "text/plain": [
       "  0%|          | 0/3 [00:00<?, ?it/s]"
      ]
     },
     "metadata": {},
     "output_type": "display_data"
    },
    {
     "name": "stderr",
     "output_type": "stream",
     "text": [
      "Found cached dataset mmlu (/root/.cache/huggingface/datasets/lukaemon___mmlu/high_school_european_history/1.0.0/134145dc2582b9a08b42d1f4b828f84a0066e9cc2e7dd8c1d83bee475746ecc3)\n"
     ]
    },
    {
     "data": {
      "application/vnd.jupyter.widget-view+json": {
       "model_id": "a7c328763474411082c9311a1f6d7dc3",
       "version_major": 2,
       "version_minor": 0
      },
      "text/plain": [
       "  0%|          | 0/3 [00:00<?, ?it/s]"
      ]
     },
     "metadata": {},
     "output_type": "display_data"
    },
    {
     "name": "stderr",
     "output_type": "stream",
     "text": [
      "Found cached dataset mmlu (/root/.cache/huggingface/datasets/lukaemon___mmlu/high_school_geography/1.0.0/134145dc2582b9a08b42d1f4b828f84a0066e9cc2e7dd8c1d83bee475746ecc3)\n"
     ]
    },
    {
     "data": {
      "application/vnd.jupyter.widget-view+json": {
       "model_id": "5f4629a057b84445bdd98b07e8abd9c0",
       "version_major": 2,
       "version_minor": 0
      },
      "text/plain": [
       "  0%|          | 0/3 [00:00<?, ?it/s]"
      ]
     },
     "metadata": {},
     "output_type": "display_data"
    },
    {
     "name": "stderr",
     "output_type": "stream",
     "text": [
      "Found cached dataset mmlu (/root/.cache/huggingface/datasets/lukaemon___mmlu/high_school_government_and_politics/1.0.0/134145dc2582b9a08b42d1f4b828f84a0066e9cc2e7dd8c1d83bee475746ecc3)\n"
     ]
    },
    {
     "data": {
      "application/vnd.jupyter.widget-view+json": {
       "model_id": "17f147ba05c04c0fbf7840313b411c85",
       "version_major": 2,
       "version_minor": 0
      },
      "text/plain": [
       "  0%|          | 0/3 [00:00<?, ?it/s]"
      ]
     },
     "metadata": {},
     "output_type": "display_data"
    },
    {
     "name": "stderr",
     "output_type": "stream",
     "text": [
      "Found cached dataset mmlu (/root/.cache/huggingface/datasets/lukaemon___mmlu/high_school_macroeconomics/1.0.0/134145dc2582b9a08b42d1f4b828f84a0066e9cc2e7dd8c1d83bee475746ecc3)\n"
     ]
    },
    {
     "data": {
      "application/vnd.jupyter.widget-view+json": {
       "model_id": "d26236c72df74775a5ed5f6f3ea0b0b1",
       "version_major": 2,
       "version_minor": 0
      },
      "text/plain": [
       "  0%|          | 0/3 [00:00<?, ?it/s]"
      ]
     },
     "metadata": {},
     "output_type": "display_data"
    },
    {
     "name": "stderr",
     "output_type": "stream",
     "text": [
      "Found cached dataset mmlu (/root/.cache/huggingface/datasets/lukaemon___mmlu/high_school_mathematics/1.0.0/134145dc2582b9a08b42d1f4b828f84a0066e9cc2e7dd8c1d83bee475746ecc3)\n"
     ]
    },
    {
     "data": {
      "application/vnd.jupyter.widget-view+json": {
       "model_id": "2c1f66a3a3284a3699a8e8e514401ad8",
       "version_major": 2,
       "version_minor": 0
      },
      "text/plain": [
       "  0%|          | 0/3 [00:00<?, ?it/s]"
      ]
     },
     "metadata": {},
     "output_type": "display_data"
    },
    {
     "name": "stderr",
     "output_type": "stream",
     "text": [
      "Found cached dataset mmlu (/root/.cache/huggingface/datasets/lukaemon___mmlu/high_school_microeconomics/1.0.0/134145dc2582b9a08b42d1f4b828f84a0066e9cc2e7dd8c1d83bee475746ecc3)\n"
     ]
    },
    {
     "data": {
      "application/vnd.jupyter.widget-view+json": {
       "model_id": "c3e3c0d55ff94ecfa42dc61d341f377e",
       "version_major": 2,
       "version_minor": 0
      },
      "text/plain": [
       "  0%|          | 0/3 [00:00<?, ?it/s]"
      ]
     },
     "metadata": {},
     "output_type": "display_data"
    },
    {
     "name": "stderr",
     "output_type": "stream",
     "text": [
      "Found cached dataset mmlu (/root/.cache/huggingface/datasets/lukaemon___mmlu/high_school_physics/1.0.0/134145dc2582b9a08b42d1f4b828f84a0066e9cc2e7dd8c1d83bee475746ecc3)\n"
     ]
    },
    {
     "data": {
      "application/vnd.jupyter.widget-view+json": {
       "model_id": "8d4243c3b0254434a11a9be4cff2117d",
       "version_major": 2,
       "version_minor": 0
      },
      "text/plain": [
       "  0%|          | 0/3 [00:00<?, ?it/s]"
      ]
     },
     "metadata": {},
     "output_type": "display_data"
    },
    {
     "name": "stderr",
     "output_type": "stream",
     "text": [
      "Found cached dataset mmlu (/root/.cache/huggingface/datasets/lukaemon___mmlu/high_school_psychology/1.0.0/134145dc2582b9a08b42d1f4b828f84a0066e9cc2e7dd8c1d83bee475746ecc3)\n"
     ]
    },
    {
     "data": {
      "application/vnd.jupyter.widget-view+json": {
       "model_id": "17c1c6d1b6754b10b8f21f3d07258b28",
       "version_major": 2,
       "version_minor": 0
      },
      "text/plain": [
       "  0%|          | 0/3 [00:00<?, ?it/s]"
      ]
     },
     "metadata": {},
     "output_type": "display_data"
    },
    {
     "name": "stderr",
     "output_type": "stream",
     "text": [
      "Found cached dataset mmlu (/root/.cache/huggingface/datasets/lukaemon___mmlu/high_school_statistics/1.0.0/134145dc2582b9a08b42d1f4b828f84a0066e9cc2e7dd8c1d83bee475746ecc3)\n"
     ]
    },
    {
     "data": {
      "application/vnd.jupyter.widget-view+json": {
       "model_id": "3d71319d264d43bea315340b076d50b4",
       "version_major": 2,
       "version_minor": 0
      },
      "text/plain": [
       "  0%|          | 0/3 [00:00<?, ?it/s]"
      ]
     },
     "metadata": {},
     "output_type": "display_data"
    },
    {
     "name": "stderr",
     "output_type": "stream",
     "text": [
      "Found cached dataset mmlu (/root/.cache/huggingface/datasets/lukaemon___mmlu/high_school_us_history/1.0.0/134145dc2582b9a08b42d1f4b828f84a0066e9cc2e7dd8c1d83bee475746ecc3)\n"
     ]
    },
    {
     "data": {
      "application/vnd.jupyter.widget-view+json": {
       "model_id": "068f6a0f9e614ce2b2ba6c15fde8e4cc",
       "version_major": 2,
       "version_minor": 0
      },
      "text/plain": [
       "  0%|          | 0/3 [00:00<?, ?it/s]"
      ]
     },
     "metadata": {},
     "output_type": "display_data"
    },
    {
     "name": "stderr",
     "output_type": "stream",
     "text": [
      "Found cached dataset mmlu (/root/.cache/huggingface/datasets/lukaemon___mmlu/high_school_world_history/1.0.0/134145dc2582b9a08b42d1f4b828f84a0066e9cc2e7dd8c1d83bee475746ecc3)\n"
     ]
    },
    {
     "data": {
      "application/vnd.jupyter.widget-view+json": {
       "model_id": "55aa7516d07d4f34ad54c593637d51f8",
       "version_major": 2,
       "version_minor": 0
      },
      "text/plain": [
       "  0%|          | 0/3 [00:00<?, ?it/s]"
      ]
     },
     "metadata": {},
     "output_type": "display_data"
    },
    {
     "name": "stderr",
     "output_type": "stream",
     "text": [
      "Found cached dataset mmlu (/root/.cache/huggingface/datasets/lukaemon___mmlu/human_aging/1.0.0/134145dc2582b9a08b42d1f4b828f84a0066e9cc2e7dd8c1d83bee475746ecc3)\n"
     ]
    },
    {
     "data": {
      "application/vnd.jupyter.widget-view+json": {
       "model_id": "a73f571e2726428b8d4e19dfef231aa5",
       "version_major": 2,
       "version_minor": 0
      },
      "text/plain": [
       "  0%|          | 0/3 [00:00<?, ?it/s]"
      ]
     },
     "metadata": {},
     "output_type": "display_data"
    },
    {
     "name": "stderr",
     "output_type": "stream",
     "text": [
      "Found cached dataset mmlu (/root/.cache/huggingface/datasets/lukaemon___mmlu/human_sexuality/1.0.0/134145dc2582b9a08b42d1f4b828f84a0066e9cc2e7dd8c1d83bee475746ecc3)\n"
     ]
    },
    {
     "data": {
      "application/vnd.jupyter.widget-view+json": {
       "model_id": "2e624e4476eb4a48a8867fc3666d20d8",
       "version_major": 2,
       "version_minor": 0
      },
      "text/plain": [
       "  0%|          | 0/3 [00:00<?, ?it/s]"
      ]
     },
     "metadata": {},
     "output_type": "display_data"
    },
    {
     "name": "stderr",
     "output_type": "stream",
     "text": [
      "Found cached dataset mmlu (/root/.cache/huggingface/datasets/lukaemon___mmlu/international_law/1.0.0/134145dc2582b9a08b42d1f4b828f84a0066e9cc2e7dd8c1d83bee475746ecc3)\n"
     ]
    },
    {
     "data": {
      "application/vnd.jupyter.widget-view+json": {
       "model_id": "eb8b44b38d4a4991bcf4cca33b4ad32c",
       "version_major": 2,
       "version_minor": 0
      },
      "text/plain": [
       "  0%|          | 0/3 [00:00<?, ?it/s]"
      ]
     },
     "metadata": {},
     "output_type": "display_data"
    },
    {
     "name": "stderr",
     "output_type": "stream",
     "text": [
      "Found cached dataset mmlu (/root/.cache/huggingface/datasets/lukaemon___mmlu/jurisprudence/1.0.0/134145dc2582b9a08b42d1f4b828f84a0066e9cc2e7dd8c1d83bee475746ecc3)\n"
     ]
    },
    {
     "data": {
      "application/vnd.jupyter.widget-view+json": {
       "model_id": "80470e28039540f7a302dafdc3270c21",
       "version_major": 2,
       "version_minor": 0
      },
      "text/plain": [
       "  0%|          | 0/3 [00:00<?, ?it/s]"
      ]
     },
     "metadata": {},
     "output_type": "display_data"
    },
    {
     "name": "stderr",
     "output_type": "stream",
     "text": [
      "Found cached dataset mmlu (/root/.cache/huggingface/datasets/lukaemon___mmlu/logical_fallacies/1.0.0/134145dc2582b9a08b42d1f4b828f84a0066e9cc2e7dd8c1d83bee475746ecc3)\n"
     ]
    },
    {
     "data": {
      "application/vnd.jupyter.widget-view+json": {
       "model_id": "6d850fc1bf7848079ac0669c44cc7170",
       "version_major": 2,
       "version_minor": 0
      },
      "text/plain": [
       "  0%|          | 0/3 [00:00<?, ?it/s]"
      ]
     },
     "metadata": {},
     "output_type": "display_data"
    },
    {
     "name": "stderr",
     "output_type": "stream",
     "text": [
      "Found cached dataset mmlu (/root/.cache/huggingface/datasets/lukaemon___mmlu/machine_learning/1.0.0/134145dc2582b9a08b42d1f4b828f84a0066e9cc2e7dd8c1d83bee475746ecc3)\n"
     ]
    },
    {
     "data": {
      "application/vnd.jupyter.widget-view+json": {
       "model_id": "9925db283d3a42d08123d0126be8c4f0",
       "version_major": 2,
       "version_minor": 0
      },
      "text/plain": [
       "  0%|          | 0/3 [00:00<?, ?it/s]"
      ]
     },
     "metadata": {},
     "output_type": "display_data"
    },
    {
     "name": "stderr",
     "output_type": "stream",
     "text": [
      "Found cached dataset mmlu (/root/.cache/huggingface/datasets/lukaemon___mmlu/management/1.0.0/134145dc2582b9a08b42d1f4b828f84a0066e9cc2e7dd8c1d83bee475746ecc3)\n"
     ]
    },
    {
     "data": {
      "application/vnd.jupyter.widget-view+json": {
       "model_id": "28e53ab6b22c4960bfc2ca03ad110338",
       "version_major": 2,
       "version_minor": 0
      },
      "text/plain": [
       "  0%|          | 0/3 [00:00<?, ?it/s]"
      ]
     },
     "metadata": {},
     "output_type": "display_data"
    },
    {
     "name": "stderr",
     "output_type": "stream",
     "text": [
      "Found cached dataset mmlu (/root/.cache/huggingface/datasets/lukaemon___mmlu/marketing/1.0.0/134145dc2582b9a08b42d1f4b828f84a0066e9cc2e7dd8c1d83bee475746ecc3)\n"
     ]
    },
    {
     "data": {
      "application/vnd.jupyter.widget-view+json": {
       "model_id": "13bedd66045148dc81dc7f503ff6f40e",
       "version_major": 2,
       "version_minor": 0
      },
      "text/plain": [
       "  0%|          | 0/3 [00:00<?, ?it/s]"
      ]
     },
     "metadata": {},
     "output_type": "display_data"
    },
    {
     "name": "stderr",
     "output_type": "stream",
     "text": [
      "Found cached dataset mmlu (/root/.cache/huggingface/datasets/lukaemon___mmlu/medical_genetics/1.0.0/134145dc2582b9a08b42d1f4b828f84a0066e9cc2e7dd8c1d83bee475746ecc3)\n"
     ]
    },
    {
     "data": {
      "application/vnd.jupyter.widget-view+json": {
       "model_id": "ef42b5dfd84947fabe5f2f9d1761cd13",
       "version_major": 2,
       "version_minor": 0
      },
      "text/plain": [
       "  0%|          | 0/3 [00:00<?, ?it/s]"
      ]
     },
     "metadata": {},
     "output_type": "display_data"
    },
    {
     "name": "stderr",
     "output_type": "stream",
     "text": [
      "Found cached dataset mmlu (/root/.cache/huggingface/datasets/lukaemon___mmlu/miscellaneous/1.0.0/134145dc2582b9a08b42d1f4b828f84a0066e9cc2e7dd8c1d83bee475746ecc3)\n"
     ]
    },
    {
     "data": {
      "application/vnd.jupyter.widget-view+json": {
       "model_id": "5ae67ed5f6934ecc993f4d5c7f7ce27d",
       "version_major": 2,
       "version_minor": 0
      },
      "text/plain": [
       "  0%|          | 0/3 [00:00<?, ?it/s]"
      ]
     },
     "metadata": {},
     "output_type": "display_data"
    },
    {
     "name": "stderr",
     "output_type": "stream",
     "text": [
      "Found cached dataset mmlu (/root/.cache/huggingface/datasets/lukaemon___mmlu/moral_disputes/1.0.0/134145dc2582b9a08b42d1f4b828f84a0066e9cc2e7dd8c1d83bee475746ecc3)\n"
     ]
    },
    {
     "data": {
      "application/vnd.jupyter.widget-view+json": {
       "model_id": "380cc17b5ed8427ab644a6ff4bd77cc5",
       "version_major": 2,
       "version_minor": 0
      },
      "text/plain": [
       "  0%|          | 0/3 [00:00<?, ?it/s]"
      ]
     },
     "metadata": {},
     "output_type": "display_data"
    },
    {
     "name": "stderr",
     "output_type": "stream",
     "text": [
      "Found cached dataset mmlu (/root/.cache/huggingface/datasets/lukaemon___mmlu/moral_scenarios/1.0.0/134145dc2582b9a08b42d1f4b828f84a0066e9cc2e7dd8c1d83bee475746ecc3)\n"
     ]
    },
    {
     "data": {
      "application/vnd.jupyter.widget-view+json": {
       "model_id": "591cf6b35cde498e9e04d572b6109190",
       "version_major": 2,
       "version_minor": 0
      },
      "text/plain": [
       "  0%|          | 0/3 [00:00<?, ?it/s]"
      ]
     },
     "metadata": {},
     "output_type": "display_data"
    },
    {
     "name": "stderr",
     "output_type": "stream",
     "text": [
      "Found cached dataset mmlu (/root/.cache/huggingface/datasets/lukaemon___mmlu/nutrition/1.0.0/134145dc2582b9a08b42d1f4b828f84a0066e9cc2e7dd8c1d83bee475746ecc3)\n"
     ]
    },
    {
     "data": {
      "application/vnd.jupyter.widget-view+json": {
       "model_id": "083ceded6dea4eb6b19f191055c6eb0d",
       "version_major": 2,
       "version_minor": 0
      },
      "text/plain": [
       "  0%|          | 0/3 [00:00<?, ?it/s]"
      ]
     },
     "metadata": {},
     "output_type": "display_data"
    },
    {
     "name": "stderr",
     "output_type": "stream",
     "text": [
      "Found cached dataset mmlu (/root/.cache/huggingface/datasets/lukaemon___mmlu/philosophy/1.0.0/134145dc2582b9a08b42d1f4b828f84a0066e9cc2e7dd8c1d83bee475746ecc3)\n"
     ]
    },
    {
     "data": {
      "application/vnd.jupyter.widget-view+json": {
       "model_id": "3993064fe5d64b9ead3234a6bfae6ab6",
       "version_major": 2,
       "version_minor": 0
      },
      "text/plain": [
       "  0%|          | 0/3 [00:00<?, ?it/s]"
      ]
     },
     "metadata": {},
     "output_type": "display_data"
    },
    {
     "name": "stderr",
     "output_type": "stream",
     "text": [
      "Found cached dataset mmlu (/root/.cache/huggingface/datasets/lukaemon___mmlu/prehistory/1.0.0/134145dc2582b9a08b42d1f4b828f84a0066e9cc2e7dd8c1d83bee475746ecc3)\n"
     ]
    },
    {
     "data": {
      "application/vnd.jupyter.widget-view+json": {
       "model_id": "1068fcd67e7b4c93a7fdd53326b7deec",
       "version_major": 2,
       "version_minor": 0
      },
      "text/plain": [
       "  0%|          | 0/3 [00:00<?, ?it/s]"
      ]
     },
     "metadata": {},
     "output_type": "display_data"
    },
    {
     "name": "stderr",
     "output_type": "stream",
     "text": [
      "Found cached dataset mmlu (/root/.cache/huggingface/datasets/lukaemon___mmlu/professional_accounting/1.0.0/134145dc2582b9a08b42d1f4b828f84a0066e9cc2e7dd8c1d83bee475746ecc3)\n"
     ]
    },
    {
     "data": {
      "application/vnd.jupyter.widget-view+json": {
       "model_id": "be2800edbc5d4722baef3aeac4501fa4",
       "version_major": 2,
       "version_minor": 0
      },
      "text/plain": [
       "  0%|          | 0/3 [00:00<?, ?it/s]"
      ]
     },
     "metadata": {},
     "output_type": "display_data"
    },
    {
     "name": "stderr",
     "output_type": "stream",
     "text": [
      "Found cached dataset mmlu (/root/.cache/huggingface/datasets/lukaemon___mmlu/professional_law/1.0.0/134145dc2582b9a08b42d1f4b828f84a0066e9cc2e7dd8c1d83bee475746ecc3)\n"
     ]
    },
    {
     "data": {
      "application/vnd.jupyter.widget-view+json": {
       "model_id": "92a107d99347469bbd8399cf6da878cd",
       "version_major": 2,
       "version_minor": 0
      },
      "text/plain": [
       "  0%|          | 0/3 [00:00<?, ?it/s]"
      ]
     },
     "metadata": {},
     "output_type": "display_data"
    },
    {
     "name": "stderr",
     "output_type": "stream",
     "text": [
      "Found cached dataset mmlu (/root/.cache/huggingface/datasets/lukaemon___mmlu/professional_medicine/1.0.0/134145dc2582b9a08b42d1f4b828f84a0066e9cc2e7dd8c1d83bee475746ecc3)\n"
     ]
    },
    {
     "data": {
      "application/vnd.jupyter.widget-view+json": {
       "model_id": "56e9dbe3a36f4fde95d47933ed73cfc2",
       "version_major": 2,
       "version_minor": 0
      },
      "text/plain": [
       "  0%|          | 0/3 [00:00<?, ?it/s]"
      ]
     },
     "metadata": {},
     "output_type": "display_data"
    },
    {
     "name": "stderr",
     "output_type": "stream",
     "text": [
      "Found cached dataset mmlu (/root/.cache/huggingface/datasets/lukaemon___mmlu/professional_psychology/1.0.0/134145dc2582b9a08b42d1f4b828f84a0066e9cc2e7dd8c1d83bee475746ecc3)\n"
     ]
    },
    {
     "data": {
      "application/vnd.jupyter.widget-view+json": {
       "model_id": "cf2b146e4aad4cfc850c93f1ab1012e2",
       "version_major": 2,
       "version_minor": 0
      },
      "text/plain": [
       "  0%|          | 0/3 [00:00<?, ?it/s]"
      ]
     },
     "metadata": {},
     "output_type": "display_data"
    },
    {
     "name": "stderr",
     "output_type": "stream",
     "text": [
      "Found cached dataset mmlu (/root/.cache/huggingface/datasets/lukaemon___mmlu/public_relations/1.0.0/134145dc2582b9a08b42d1f4b828f84a0066e9cc2e7dd8c1d83bee475746ecc3)\n"
     ]
    },
    {
     "data": {
      "application/vnd.jupyter.widget-view+json": {
       "model_id": "b935a7786ccf497fa0b6cf1af5ed2081",
       "version_major": 2,
       "version_minor": 0
      },
      "text/plain": [
       "  0%|          | 0/3 [00:00<?, ?it/s]"
      ]
     },
     "metadata": {},
     "output_type": "display_data"
    },
    {
     "name": "stderr",
     "output_type": "stream",
     "text": [
      "Found cached dataset mmlu (/root/.cache/huggingface/datasets/lukaemon___mmlu/security_studies/1.0.0/134145dc2582b9a08b42d1f4b828f84a0066e9cc2e7dd8c1d83bee475746ecc3)\n"
     ]
    },
    {
     "data": {
      "application/vnd.jupyter.widget-view+json": {
       "model_id": "51a5cc3148de48738846d0487fafee19",
       "version_major": 2,
       "version_minor": 0
      },
      "text/plain": [
       "  0%|          | 0/3 [00:00<?, ?it/s]"
      ]
     },
     "metadata": {},
     "output_type": "display_data"
    },
    {
     "name": "stderr",
     "output_type": "stream",
     "text": [
      "Found cached dataset mmlu (/root/.cache/huggingface/datasets/lukaemon___mmlu/sociology/1.0.0/134145dc2582b9a08b42d1f4b828f84a0066e9cc2e7dd8c1d83bee475746ecc3)\n"
     ]
    },
    {
     "data": {
      "application/vnd.jupyter.widget-view+json": {
       "model_id": "abbad7d9e93741fc865815d15f487d65",
       "version_major": 2,
       "version_minor": 0
      },
      "text/plain": [
       "  0%|          | 0/3 [00:00<?, ?it/s]"
      ]
     },
     "metadata": {},
     "output_type": "display_data"
    },
    {
     "name": "stderr",
     "output_type": "stream",
     "text": [
      "Found cached dataset mmlu (/root/.cache/huggingface/datasets/lukaemon___mmlu/us_foreign_policy/1.0.0/134145dc2582b9a08b42d1f4b828f84a0066e9cc2e7dd8c1d83bee475746ecc3)\n"
     ]
    },
    {
     "data": {
      "application/vnd.jupyter.widget-view+json": {
       "model_id": "6945144d455c4715ae116c65ff8bf17a",
       "version_major": 2,
       "version_minor": 0
      },
      "text/plain": [
       "  0%|          | 0/3 [00:00<?, ?it/s]"
      ]
     },
     "metadata": {},
     "output_type": "display_data"
    },
    {
     "name": "stderr",
     "output_type": "stream",
     "text": [
      "Found cached dataset mmlu (/root/.cache/huggingface/datasets/lukaemon___mmlu/virology/1.0.0/134145dc2582b9a08b42d1f4b828f84a0066e9cc2e7dd8c1d83bee475746ecc3)\n"
     ]
    },
    {
     "data": {
      "application/vnd.jupyter.widget-view+json": {
       "model_id": "d304e7888def4f43a1e0cb421b9c8289",
       "version_major": 2,
       "version_minor": 0
      },
      "text/plain": [
       "  0%|          | 0/3 [00:00<?, ?it/s]"
      ]
     },
     "metadata": {},
     "output_type": "display_data"
    },
    {
     "name": "stderr",
     "output_type": "stream",
     "text": [
      "Found cached dataset mmlu (/root/.cache/huggingface/datasets/lukaemon___mmlu/world_religions/1.0.0/134145dc2582b9a08b42d1f4b828f84a0066e9cc2e7dd8c1d83bee475746ecc3)\n"
     ]
    },
    {
     "data": {
      "application/vnd.jupyter.widget-view+json": {
       "model_id": "f340fd46b22b48cc8c65350985333e4b",
       "version_major": 2,
       "version_minor": 0
      },
      "text/plain": [
       "  0%|          | 0/3 [00:00<?, ?it/s]"
      ]
     },
     "metadata": {},
     "output_type": "display_data"
    }
   ],
   "source": [
    "questions=get_mmlu_questions(5, ['abstract_algebra', 'anatomy', 'astronomy', 'business_ethics', 'clinical_knowledge', 'college_biology', 'college_chemistry', 'college_computer_science', 'college_mathematics', 'college_medicine', 'college_physics', 'computer_security', 'conceptual_physics', 'econometrics', 'electrical_engineering', 'elementary_mathematics', 'formal_logic', 'global_facts', 'high_school_biology', 'high_school_chemistry', 'high_school_computer_science', 'high_school_european_history', 'high_school_geography', 'high_school_government_and_politics', 'high_school_macroeconomics', 'high_school_mathematics', 'high_school_microeconomics', 'high_school_physics', 'high_school_psychology', 'high_school_statistics', 'high_school_us_history', 'high_school_world_history', 'human_aging', 'human_sexuality', 'international_law', 'jurisprudence', 'logical_fallacies', 'machine_learning', 'management', 'marketing', 'medical_genetics', 'miscellaneous', 'moral_disputes', 'moral_scenarios', 'nutrition', 'philosophy', 'prehistory', 'professional_accounting', 'professional_law', 'professional_medicine', 'professional_psychology', 'public_relations', 'security_studies', 'sociology', 'us_foreign_policy', 'virology', 'world_religions'])"
   ]
  },
  {
   "cell_type": "code",
   "execution_count": null,
   "metadata": {},
   "outputs": [],
   "source": [
    "base_result = get_mmlu_average(model, questions)"
   ]
  },
  {
   "cell_type": "code",
   "execution_count": 11,
   "metadata": {},
   "outputs": [],
   "source": [
    "\n",
    "def average_random_lines(data, N=100):\n",
    "    \"\"\"\n",
    "    This function selects 100 random rows from the input dataset and returns their average.\n",
    "\n",
    "    Parameters:\n",
    "    - data (torch.Tensor): The input dataset.\n",
    "\n",
    "    Returns:\n",
    "    - torch.Tensor: A tensor containing the average of the randomly selected 100 rows.\n",
    "    \"\"\"\n",
    "\n",
    "    # Randomly select 100 indices\n",
    "    indices = torch.randperm(data.size(0))[:N]\n",
    "\n",
    "    # Select the rows corresponding to these indices\n",
    "    selected_data = data[indices]\n",
    "\n",
    "    # Return the average of the selected rows\n",
    "    return torch.mean(selected_data, dim=0)\n"
   ]
  },
  {
   "cell_type": "code",
   "execution_count": 12,
   "metadata": {},
   "outputs": [],
   "source": [
    "question_path = \"../steering_vectors/\"\n",
    "question_types = [\n",
    "    \"direct_questions\",\n",
    "    \"questioning_assuming_statement\",\n",
    "    \"conversation\",\n",
    "    \"alluding_questions\",\n",
    "]\n",
    "steering_vectors_fiction = []\n",
    "steering_vectors_mixed = []\n",
    "layer = 15\n",
    "coeff_list = [-10,-7.5,-5,-2.5,0,2.5,5,7.5,10]\n",
    "for question_type in question_types:\n",
    "    steering_data_fiction = torch.load(\n",
    "        f\"{question_path}{question_type}/fiction/all_diffs_layer_{layer}.pt\"\n",
    "    )\n",
    "    steering_vector_fiction = average_random_lines(steering_data_fiction)\n",
    "    steering_vectors_fiction.append(steering_vector_fiction)\n",
    "\n",
    "    steering_data_mixed = torch.load(\n",
    "        f\"{question_path}{question_type}/mixed/all_diffs_layer_{layer}.pt\"\n",
    "    )\n",
    "    steering_vector_mixed = average_random_lines(steering_data_mixed)\n",
    "    steering_vectors_mixed.append(steering_vector_mixed)\n",
    "    \n"
   ]
  },
  {
   "cell_type": "code",
   "execution_count": 13,
   "metadata": {},
   "outputs": [],
   "source": [
    "from tqdm import tqdm\n",
    "\n",
    "result_dict_fiction = {}\n",
    "result_dict_mixed = {}\n",
    "coeffs = [5,0,-5]\n",
    "vector= steering_vectors_fiction[2]\n",
    "vector = vector / torch.norm(vector)\n",
    "mmlu_perfs = []\n",
    "for coeff in coeffs:\n",
    "    model.reset_all()\n",
    "    model.set_add_activations(layer, vector * coeff)\n",
    "    result = get_mmlu_average(model, questions)\n",
    "    mmlu_perfs.append(result)"
   ]
  },
  {
   "cell_type": "code",
   "execution_count": 14,
   "metadata": {},
   "outputs": [
    {
     "data": {
      "text/plain": [
       "[0.49557894736842106, 0.5060000000000002, 0.4938947368421052]"
      ]
     },
     "execution_count": 14,
     "metadata": {},
     "output_type": "execute_result"
    }
   ],
   "source": [
    "mmlu_perfs"
   ]
  },
  {
   "cell_type": "code",
   "execution_count": 11,
   "metadata": {},
   "outputs": [
    {
     "name": "stderr",
     "output_type": "stream",
     "text": [
      "Processing fiction direct_questions: 100%|██████████| 9/9 [06:49<00:00, 45.49s/it]\n",
      "Processing fiction questioning_assuming_statement: 100%|██████████| 9/9 [06:51<00:00, 45.72s/it]\n",
      "Processing fiction conversation:  89%|████████▉ | 8/9 [06:05<00:45, 45.71s/it]"
     ]
    }
   ],
   "source": [
    "from tqdm import tqdm\n",
    "\n",
    "result_dict_fiction = {}\n",
    "result_dict_mixed = {}\n",
    "\n",
    "# Loop over each steering vector for fiction data, with a progress bar\n",
    "for steering_vector, steering_vector_name in zip(steering_vectors_fiction, question_types):\n",
    "    for coeff in tqdm(coeff_list, desc=f\"Processing fiction {steering_vector_name}\"):\n",
    "        model.reset_all()\n",
    "        model.set_add_activations(layer, steering_vector * coeff)\n",
    "        result = get_mmlu_average(model, questions)\n",
    "        result_dict_fiction[f\"{steering_vector_name}_{coeff}\"] = result\n",
    "\n",
    "# Loop over each steering vector for mixed data, with a progress bar\n",
    "for steering_vector, steering_vector_name in zip(steering_vectors_mixed, question_types):\n",
    "    for coeff in tqdm(coeff_list, desc=f\"Processing mixed {steering_vector_name}\"):\n",
    "        model.reset_all()\n",
    "        model.set_add_activations(layer, steering_vector * coeff)\n",
    "        result = get_mmlu_average(model, questions)\n",
    "        result_dict_mixed[f\"{steering_vector_name}_{coeff}\"] = result\n"
   ]
  },
  {
   "cell_type": "code",
   "execution_count": null,
   "metadata": {},
   "outputs": [],
   "source": [
    "# Save the results\n",
    "with open(\"results_mmlu_fiction.pkl\", \"wb\") as f:\n",
    "    pickle.dump(result_dict_fiction, f)\n",
    "\n",
    "with open(\"results_mmlu_mixed.pkl\", \"wb\") as f:\n",
    "    pickle.dump(result_dict_mixed, f)"
   ]
  },
  {
   "cell_type": "code",
   "execution_count": 12,
   "metadata": {},
   "outputs": [],
   "source": [
    "# Save the results\n",
    "with open(\"mmlu_results.json\", \"w\") as f:\n",
    "    json.dump(result_dict, f, indent=4)"
   ]
  },
  {
   "cell_type": "code",
   "execution_count": 4,
   "metadata": {},
   "outputs": [],
   "source": [
    "result_dict_fiction = pickle.load(open(\"results_mmlu_fiction.pkl\", \"rb\"))\n",
    "result_dict_mixed = pickle.load(open(\"results_mmlu_mixed.pkl\", \"rb\"))"
   ]
  },
  {
   "cell_type": "code",
   "execution_count": 5,
   "metadata": {},
   "outputs": [
    {
     "data": {
      "text/plain": [
       "{'direct_questions_-10': 0.0,\n",
       " 'direct_questions_-7.5': 0.0,\n",
       " 'direct_questions_-5': 0.002210526315789475,\n",
       " 'direct_questions_-2.5': 0.043438596491228026,\n",
       " 'direct_questions_0': 0.4765614035087718,\n",
       " 'direct_questions_2.5': 0.028596491228070082,\n",
       " 'direct_questions_5': 0.0,\n",
       " 'direct_questions_7.5': 0.0,\n",
       " 'direct_questions_10': 0.0,\n",
       " 'questioning_assuming_statement_-10': 0.0,\n",
       " 'questioning_assuming_statement_-7.5': 0.0,\n",
       " 'questioning_assuming_statement_-5': 0.0032280701754385985,\n",
       " 'questioning_assuming_statement_-2.5': 0.062350877192982365,\n",
       " 'questioning_assuming_statement_0': 0.4765614035087718,\n",
       " 'questioning_assuming_statement_2.5': 0.1089824561403509,\n",
       " 'questioning_assuming_statement_5': 0.0,\n",
       " 'questioning_assuming_statement_7.5': 0.0,\n",
       " 'questioning_assuming_statement_10': 0.0,\n",
       " 'conversation_-10': 0.0,\n",
       " 'conversation_-7.5': 0.0,\n",
       " 'conversation_-5': 0.006350877192982461,\n",
       " 'conversation_-2.5': 0.12210526315789486,\n",
       " 'conversation_0': 0.4765614035087718,\n",
       " 'conversation_2.5': 0.022807017543859633,\n",
       " 'conversation_5': 0.0,\n",
       " 'conversation_7.5': 0.0,\n",
       " 'conversation_10': 0.0,\n",
       " 'alluding_questions_-10': 0.0,\n",
       " 'alluding_questions_-7.5': 0.0,\n",
       " 'alluding_questions_-5': 0.0028421052631578967,\n",
       " 'alluding_questions_-2.5': 0.06557894736842099,\n",
       " 'alluding_questions_0': 0.4765614035087718,\n",
       " 'alluding_questions_2.5': 0.04157894736842104,\n",
       " 'alluding_questions_5': 0.0,\n",
       " 'alluding_questions_7.5': 0.0,\n",
       " 'alluding_questions_10': 0.0}"
      ]
     },
     "execution_count": 5,
     "metadata": {},
     "output_type": "execute_result"
    }
   ],
   "source": [
    "result_dict_fiction"
   ]
  },
  {
   "cell_type": "code",
   "execution_count": null,
   "metadata": {},
   "outputs": [],
   "source": [
    "from tqdm import tqdm\n",
    "\n",
    "result_dict_fiction = {}\n",
    "\n",
    "\n",
    "# Loop over each steering vector for fiction data, with a progress bar\n",
    "for steering_vector, steering_vector_name in zip(steering_vectors_fiction, question_types):\n",
    "    for coeff in tqdm(coeff_list, desc=f\"Processing fiction {steering_vector_name}\"):\n",
    "        model.reset_all()\n",
    "        model.set_add_activations(layer, steering_vector * coeff)\n",
    "        result = get_mmlu_average(model, questions)\n",
    "        result_dict_fiction[f\"{steering_vector_name}_{coeff}\"] = result\n",
    "\n",
    "# Loop over each steering vector for mixed data, with a progress bar\n",
    "for steering_vector, steering_vector_name in zip(steering_vectors_mixed, question_types):\n",
    "    for coeff in tqdm(coeff_list, desc=f\"Processing mixed {steering_vector_name}\"):\n",
    "        model.reset_all()\n",
    "        model.set_add_activations(layer, steering_vector * coeff)\n",
    "        result = get_mmlu_average(model, questions)\n",
    "        result_dict_mixed[f\"{steering_vector_name}_{coeff}\"] = result\n"
   ]
  }
 ],
 "metadata": {
  "kernelspec": {
   "display_name": "my_env",
   "language": "python",
   "name": "python3"
  },
  "language_info": {
   "codemirror_mode": {
    "name": "ipython",
    "version": 3
   },
   "file_extension": ".py",
   "mimetype": "text/x-python",
   "name": "python",
   "nbconvert_exporter": "python",
   "pygments_lexer": "ipython3",
   "version": "3.10.13"
  }
 },
 "nbformat": 4,
 "nbformat_minor": 2
}
